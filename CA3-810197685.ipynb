{
 "cells": [
  {
   "cell_type": "markdown",
   "metadata": {},
   "source": [
    "## Computer Assignment #3 (Naive Bayes Classification)\n",
    "### Artificial Intelligence Course - Spring 2021\n",
    "### Daneshvar Amrollahi (810197685)\n",
    "\n",
    "#### The questions asked in the description are answered in the format Q_i) where i is the question number."
   ]
  },
  {
   "cell_type": "code",
   "execution_count": 1,
   "metadata": {},
   "outputs": [],
   "source": [
    "import pandas as pd "
   ]
  },
  {
   "cell_type": "code",
   "execution_count": 2,
   "metadata": {
    "scrolled": true
   },
   "outputs": [
    {
     "data": {
      "text/html": [
       "<div>\n",
       "<style scoped>\n",
       "    .dataframe tbody tr th:only-of-type {\n",
       "        vertical-align: middle;\n",
       "    }\n",
       "\n",
       "    .dataframe tbody tr th {\n",
       "        vertical-align: top;\n",
       "    }\n",
       "\n",
       "    .dataframe thead th {\n",
       "        text-align: right;\n",
       "    }\n",
       "</style>\n",
       "<table border=\"1\" class=\"dataframe\">\n",
       "  <thead>\n",
       "    <tr style=\"text-align: right;\">\n",
       "      <th></th>\n",
       "      <th>title</th>\n",
       "      <th>description</th>\n",
       "      <th>categories</th>\n",
       "    </tr>\n",
       "  </thead>\n",
       "  <tbody>\n",
       "    <tr>\n",
       "      <th>0</th>\n",
       "      <td>ساختار نظریه‌های جامعه‌شناسی ایران</td>\n",
       "      <td>«ساختار نظریه‌های جامعه‌شناسی ایران» نوشته ابو...</td>\n",
       "      <td>جامعه‌شناسی</td>\n",
       "    </tr>\n",
       "    <tr>\n",
       "      <th>1</th>\n",
       "      <td>جامعه و فرهنگ کانادا</td>\n",
       "      <td>«جامعه و فرهنگ کانادا» از مجموعه کتاب‌های «جام...</td>\n",
       "      <td>جامعه‌شناسی</td>\n",
       "    </tr>\n",
       "    <tr>\n",
       "      <th>2</th>\n",
       "      <td>پرسش از موعود</td>\n",
       "      <td>پرسش‌های مختلفی درباره زندگی و شخصیت امام مهدی...</td>\n",
       "      <td>کلیات اسلام</td>\n",
       "    </tr>\n",
       "    <tr>\n",
       "      <th>3</th>\n",
       "      <td>موج، دریا</td>\n",
       "      <td>«موج دریا» به قلم مهری ماهوتی (-۱۳۴۰) و تصویرگ...</td>\n",
       "      <td>داستان کودک و نوجوانان</td>\n",
       "    </tr>\n",
       "    <tr>\n",
       "      <th>4</th>\n",
       "      <td>پرسش از غرب</td>\n",
       "      <td>«پرسش از غرب» به قلم دکتر اسماعیل شفیعی سروستا...</td>\n",
       "      <td>جامعه‌شناسی</td>\n",
       "    </tr>\n",
       "  </tbody>\n",
       "</table>\n",
       "</div>"
      ],
      "text/plain": [
       "                                title  \\\n",
       "0  ساختار نظریه‌های جامعه‌شناسی ایران   \n",
       "1                جامعه و فرهنگ کانادا   \n",
       "2                       پرسش از موعود   \n",
       "3                           موج، دریا   \n",
       "4                         پرسش از غرب   \n",
       "\n",
       "                                         description              categories  \n",
       "0  «ساختار نظریه‌های جامعه‌شناسی ایران» نوشته ابو...             جامعه‌شناسی  \n",
       "1  «جامعه و فرهنگ کانادا» از مجموعه کتاب‌های «جام...             جامعه‌شناسی  \n",
       "2  پرسش‌های مختلفی درباره زندگی و شخصیت امام مهدی...             کلیات اسلام  \n",
       "3  «موج دریا» به قلم مهری ماهوتی (-۱۳۴۰) و تصویرگ...  داستان کودک و نوجوانان  \n",
       "4  «پرسش از غرب» به قلم دکتر اسماعیل شفیعی سروستا...             جامعه‌شناسی  "
      ]
     },
     "execution_count": 2,
     "metadata": {},
     "output_type": "execute_result"
    }
   ],
   "source": [
    "df = pd.read_csv(\"books_train.csv\")\n",
    "df.head(5)\n"
   ]
  },
  {
   "cell_type": "code",
   "execution_count": 3,
   "metadata": {
    "scrolled": true
   },
   "outputs": [],
   "source": [
    "from __future__ import unicode_literals\n",
    "from hazm import *\n",
    "\n",
    "normalizer = Normalizer()\n",
    "stemmer = Stemmer()\n",
    "lemmatizer = Lemmatizer()"
   ]
  },
  {
   "cell_type": "code",
   "execution_count": 4,
   "metadata": {
    "scrolled": true
   },
   "outputs": [
    {
     "data": {
      "text/plain": [
       "'ساختار نظریه\\u200cهای جامعه\\u200cشناسی ایران'"
      ]
     },
     "execution_count": 4,
     "metadata": {},
     "output_type": "execute_result"
    }
   ],
   "source": [
    "normalizer.normalize(df['title'][0])"
   ]
  },
  {
   "cell_type": "markdown",
   "metadata": {},
   "source": [
    "This option seems to be removing semi-spaces (Nim faseleh). We don't need that here since the dataset is already guaranteed to have this standard."
   ]
  },
  {
   "cell_type": "code",
   "execution_count": 5,
   "metadata": {
    "scrolled": false
   },
   "outputs": [
    {
     "name": "stdout",
     "output_type": "stream",
     "text": [
      "رف\n",
      "کتاب\n",
      "دانشور\n",
      "خوردن\n",
      "سلا\n"
     ]
    }
   ],
   "source": [
    "print(stemmer.stem('رفتم'))\n",
    "print(stemmer.stem('کتاب‌ها'))\n",
    "print(stemmer.stem('دانشور'))\n",
    "print(stemmer.stem('خوردن'))\n",
    "print(stemmer.stem('سلام'))"
   ]
  },
  {
   "cell_type": "markdown",
   "metadata": {},
   "source": [
    "### Q1)\n",
    "I decided not choose this **stemming** option since this library doesn't seem to be accurate enough. It is destructing some normal words."
   ]
  },
  {
   "cell_type": "code",
   "execution_count": 6,
   "metadata": {},
   "outputs": [
    {
     "name": "stdout",
     "output_type": "stream",
     "text": [
      "رفت#رو\n",
      "خورد#خور\n",
      "خواهد دید\n",
      "دید#بین\n"
     ]
    }
   ],
   "source": [
    "print(lemmatizer.lemmatize('می‌روی'))\n",
    "print(lemmatizer.lemmatize('می‌خوری'))\n",
    "print(lemmatizer.lemmatize('خواهد دید'))\n",
    "print(lemmatizer.lemmatize('دیدم'))"
   ]
  },
  {
   "cell_type": "markdown",
   "metadata": {},
   "source": [
    "### Q1)\n",
    "This option is giving us **Bon-e-Maazi** and **Bon-e-Mozare** of a verb in Farsi. Two verbs having the same **Bon** mostly have the same concept in a sentence so they can be used instead of each other."
   ]
  },
  {
   "cell_type": "code",
   "execution_count": 7,
   "metadata": {
    "scrolled": true
   },
   "outputs": [
    {
     "data": {
      "text/plain": [
       "['جامعه', 'و', 'فرهنگ', 'کانادا']"
      ]
     },
     "execution_count": 7,
     "metadata": {},
     "output_type": "execute_result"
    }
   ],
   "source": [
    "word_tokenize(df['title'][1])"
   ]
  },
  {
   "cell_type": "markdown",
   "metadata": {},
   "source": [
    "This **word_tokenize()** is a good function to use since it breaks a sentence into it's words which we are going to need them later."
   ]
  },
  {
   "cell_type": "code",
   "execution_count": 8,
   "metadata": {
    "scrolled": false
   },
   "outputs": [
    {
     "data": {
      "text/plain": [
       "کلیات اسلام               425\n",
       "داستان کوتاه              425\n",
       "داستان کودک و نوجوانان    425\n",
       "رمان                      425\n",
       "جامعه‌شناسی               425\n",
       "مدیریت و کسب و کار        425\n",
       "Name: categories, dtype: int64"
      ]
     },
     "execution_count": 8,
     "metadata": {},
     "output_type": "execute_result"
    }
   ],
   "source": [
    "df['categories'].value_counts()"
   ]
  },
  {
   "cell_type": "markdown",
   "metadata": {},
   "source": [
    "We have 425 samples of each category."
   ]
  },
  {
   "cell_type": "code",
   "execution_count": 9,
   "metadata": {
    "scrolled": true
   },
   "outputs": [
    {
     "data": {
      "text/plain": [
       "['آزادانه',\n",
       " 'آسان',\n",
       " 'آسيب پذيرند',\n",
       " 'آشكارا',\n",
       " 'آشنايند',\n",
       " 'آمرانه',\n",
       " 'آن',\n",
       " 'آن گاه',\n",
       " 'آن ها',\n",
       " 'آنان',\n",
       " 'آناني',\n",
       " 'آنجا',\n",
       " 'آنچنان',\n",
       " 'آنچنان كه',\n",
       " 'آنچه',\n",
       " 'آنرا',\n",
       " 'آنقدر',\n",
       " 'آنگاه',\n",
       " 'آنها',\n",
       " 'آنهاست']"
      ]
     },
     "execution_count": 9,
     "metadata": {},
     "output_type": "execute_result"
    }
   ],
   "source": [
    "with open('stop_words.txt') as f:\n",
    "    ignore = [line.rstrip() for line in f]\n",
    "\n",
    "ignore = [x.strip() for x in ignore]\n",
    "ignore[30:50]"
   ]
  },
  {
   "cell_type": "markdown",
   "metadata": {},
   "source": [
    "**ignore**: List of words to ignore in text."
   ]
  },
  {
   "cell_type": "markdown",
   "metadata": {},
   "source": [
    "### Q2)\n",
    "\n",
    "$$ P(c|x) = \\frac{P(x|c)P(c)}{P(x)} $$\n",
    "\n",
    "$x$: The word appeared\n",
    "\n",
    "$c$: The book genre\n",
    "\n",
    "$P(x|c)$ : Probability of seeing word $x$ in a book genre's description of type $c$ **(Likelihood)**\n",
    "\n",
    "$P(c|x)$ : Probability of the current book genre being $c$ knowing that the word $x$ has appeared in the title. **(Posterior)**\n",
    "\n",
    "$P(c)$: Probability of seeing a book with genre $c$ which is equal for all genres since they all have occured the same number of times in the dataset. **(Class Prior Probability)**\n",
    "\n",
    "Since we may have $n$ words in the description/title, $X$ can be represented as $(x_1, x_2, ..., x_n)$"
   ]
  },
  {
   "cell_type": "markdown",
   "metadata": {},
   "source": [
    "**Bigrams** could also be used to increase accuracy. Here we only consider a word by itself without paying attention to the words before/after it. So we are using **Unigrams** here.\n",
    "\n",
    "### Q3)\n",
    "This is en example which bigrams become useful:\n",
    "\n",
    "شیر سلطان جنگل است.\n",
    "\n",
    "شیر دستشویی منزل علی خراب است.\n",
    "\n",
    "In the first sentence, شیر means Lion but in the second example it means faucet. Therefore, these two sentences have completely different concepts and are from different genres.\n",
    "\n",
    "Using a trigram for the first sentence would be perfect here to match شیر with جنگل which means jungle.\n"
   ]
  },
  {
   "cell_type": "markdown",
   "metadata": {},
   "source": [
    "**novel_title[x]** is storing number of occurences of word **x** in a **novel**'s title.\n",
    "\n",
    "**novel_descr[x]** is storing number of occurence of word **x** in a **novel**'s description.\n",
    "\n",
    "We calculate two such dictionaries for each category.\n"
   ]
  },
  {
   "cell_type": "code",
   "execution_count": 10,
   "metadata": {},
   "outputs": [],
   "source": [
    "novel_descr = dict()\n",
    "sociology_descr = dict()\n",
    "islamic_descr = dict()\n",
    "short_story_descr = dict()\n",
    "kids_descr = dict()\n",
    "business_descr = dict()\n",
    "\n",
    "total_novel_descr = 0\n",
    "total_sociology_descr = 0\n",
    "total_islamic_descr = 0\n",
    "total_short_story_descr = 0\n",
    "total_kids_descr = 0\n",
    "total_business_descr = 0\n",
    "\n",
    "for index, row in df.iterrows():\n",
    "    tokens = word_tokenize(row['description'])\n",
    "    for token in tokens:\n",
    "        word = lemmatizer.lemmatize(token)\n",
    "        if (not word in ignore):\n",
    "            \n",
    "            cat = row['categories']\n",
    "            \n",
    "            if (cat == 'رمان'):\n",
    "                novel_descr[word] = novel_descr.get(word, 0) + 1\n",
    "                total_novel_descr += 1\n",
    "                \n",
    "            if (cat == 'جامعه‌شناسی'):\n",
    "                sociology_descr[word] = sociology_descr.get(word, 0) + 1\n",
    "                total_sociology_descr += 1\n",
    "                \n",
    "            if (cat == 'کلیات اسلام'):\n",
    "                islamic_descr[word] = islamic_descr.get(word, 0) + 1\n",
    "                total_islamic_descr += 1\n",
    "                \n",
    "            if (cat == 'داستان کوتاه'):\n",
    "                short_story_descr[word] = short_story_descr.get(word, 0) + 1\n",
    "                total_short_story_descr += 1\n",
    "                \n",
    "            if (cat == 'داستان کودک و نوجوانان'):\n",
    "                kids_descr[word] = kids_descr.get(word, 0) + 1\n",
    "                total_kids_descr += 1\n",
    "                \n",
    "            if (cat == 'مدیریت و کسب و کار'):\n",
    "                business_descr[word] = business_descr.get(word, 0) + 1 \n",
    "                total_business_descr += 1\n",
    "                \n",
    "\n",
    "distinct_novel_descr = len(list(novel_descr.keys()))\n",
    "distinct_sociology_descr = len(list(sociology_descr.keys()))\n",
    "distinct_islamic_descr = len(list(islamic_descr.keys()))\n",
    "distinct_short_story_descr = len(list(short_story_descr.keys()))\n",
    "distinct_kids_descr = len(list(kids_descr.keys()))\n",
    "distinct_business_descr = len(list(kids_descr.keys()))\n",
    "\n",
    "\n"
   ]
  },
  {
   "cell_type": "code",
   "execution_count": 11,
   "metadata": {},
   "outputs": [],
   "source": [
    "novel_title = dict()\n",
    "sociology_title = dict()\n",
    "islamic_title = dict()\n",
    "short_story_title = dict()\n",
    "kids_title = dict()\n",
    "business_title = dict()\n",
    "\n",
    "total_novel_title = 0\n",
    "total_sociology_title = 0\n",
    "total_islamic_title = 0\n",
    "total_short_story_title = 0\n",
    "total_kids_title = 0\n",
    "total_business_title = 0\n",
    "\n",
    "for index, row in df.iterrows():\n",
    "    tokens = word_tokenize(row['title'])\n",
    "    for token in tokens:\n",
    "        word = lemmatizer.lemmatize(token)\n",
    "        if (not word in ignore):\n",
    "            \n",
    "            cat = row['categories']\n",
    "            \n",
    "            if (cat == 'رمان'):\n",
    "                novel_title[word] = novel_title.get(word, 0) + 1\n",
    "                total_novel_title += 1\n",
    "                \n",
    "            if (cat == 'جامعه‌شناسی'):\n",
    "                sociology_title[word] = sociology_title.get(word, 0) + 1\n",
    "                total_sociology_title += 1\n",
    "                \n",
    "            if (cat == 'کلیات اسلام'):\n",
    "                islamic_title[word] = islamic_title.get(word, 0) + 1\n",
    "                total_islamic_title += 1\n",
    "                \n",
    "            if (cat == 'داستان کوتاه'):\n",
    "                short_story_title[word] = short_story_title.get(word, 0) + 1\n",
    "                total_short_story_title += 1\n",
    "                \n",
    "            if (cat == 'داستان کودک و نوجوانان'):\n",
    "                kids_title[word] = kids_title.get(word, 0) + 1\n",
    "                total_kids_title += 1\n",
    "                \n",
    "            if (cat == 'مدیریت و کسب و کار'):\n",
    "                business_title[word] = business_title.get(word, 0) + 1 \n",
    "                total_business_title += 1\n",
    "                \n",
    "\n",
    "distinct_novel_title = len(list(novel_title.keys()))\n",
    "distinct_sociology_title = len(list(sociology_title.keys()))\n",
    "distinct_islamic_title = len(list(islamic_title.keys()))\n",
    "distinct_short_story_title = len(list(short_story_title.keys()))\n",
    "distinct_kids_title = len(list(kids_title.keys()))\n",
    "distinct_business = len(list(kids_title.keys()))\n",
    "\n",
    "\n"
   ]
  },
  {
   "cell_type": "markdown",
   "metadata": {},
   "source": [
    "### Q6)\n",
    "\n",
    "Now we plot the frequency of top 6 words used in all genres:"
   ]
  },
  {
   "cell_type": "code",
   "execution_count": 12,
   "metadata": {
    "scrolled": false
   },
   "outputs": [
    {
     "data": {
      "image/png": "[encoded data removed]",
      "text/plain": [
       "<Figure size 432x288 with 1 Axes>"
      ]
     },
     "metadata": {
      "needs_background": "light"
     },
     "output_type": "display_data"
    }
   ],
   "source": [
    "from matplotlib import pyplot as plt\n",
    "from operator import itemgetter\n",
    "\n",
    "res = dict(sorted(novel_title.items(), key = itemgetter(1), reverse = True)[:6])\n",
    "keys = res.keys()\n",
    "values = res.values()\n",
    "plt.bar(keys, values)\n",
    "plt.xlabel('words in novel')\n",
    "plt.ylabel('frequency')\n",
    "plt.show()"
   ]
  },
  {
   "cell_type": "code",
   "execution_count": 13,
   "metadata": {
    "scrolled": true
   },
   "outputs": [
    {
     "data": {
      "image/png": "[encoded data removed]",
      "text/plain": [
       "<Figure size 432x288 with 1 Axes>"
      ]
     },
     "metadata": {
      "needs_background": "light"
     },
     "output_type": "display_data"
    }
   ],
   "source": [
    "from matplotlib import pyplot as plt\n",
    "from operator import itemgetter\n",
    "\n",
    "res = dict(sorted(sociology_title.items(), key = itemgetter(1), reverse = True)[:6])\n",
    "keys = res.keys()\n",
    "values = res.values()\n",
    "plt.bar(keys, values)\n",
    "plt.xlabel('words in sociology')\n",
    "plt.ylabel('frequency')\n",
    "plt.show()"
   ]
  },
  {
   "cell_type": "code",
   "execution_count": 14,
   "metadata": {},
   "outputs": [
    {
     "data": {
      "image/png": "[encoded data removed]",
      "text/plain": [
       "<Figure size 432x288 with 1 Axes>"
      ]
     },
     "metadata": {
      "needs_background": "light"
     },
     "output_type": "display_data"
    }
   ],
   "source": [
    "from matplotlib import pyplot as plt\n",
    "from operator import itemgetter\n",
    "\n",
    "res = dict(sorted(islamic_title.items(), key = itemgetter(1), reverse = True)[:6])\n",
    "keys = res.keys()\n",
    "values = res.values()\n",
    "plt.bar(keys, values)\n",
    "plt.xlabel('words in islamic')\n",
    "plt.ylabel('frequency')\n",
    "plt.show()"
   ]
  },
  {
   "cell_type": "code",
   "execution_count": 15,
   "metadata": {},
   "outputs": [
    {
     "data": {
      "image/png": "[encoded data removed]",
      "text/plain": [
       "<Figure size 432x288 with 1 Axes>"
      ]
     },
     "metadata": {
      "needs_background": "light"
     },
     "output_type": "display_data"
    }
   ],
   "source": [
    "from matplotlib import pyplot as plt\n",
    "from operator import itemgetter\n",
    "\n",
    "res = dict(sorted(short_story_title.items(), key = itemgetter(1), reverse = True)[:6])\n",
    "keys = res.keys()\n",
    "values = res.values()\n",
    "plt.bar(keys, values)\n",
    "plt.xlabel('words in short_story')\n",
    "plt.ylabel('frequency')\n",
    "plt.show()"
   ]
  },
  {
   "cell_type": "code",
   "execution_count": 16,
   "metadata": {},
   "outputs": [
    {
     "data": {
      "image/png": "[encoded data removed]",
      "text/plain": [
       "<Figure size 432x288 with 1 Axes>"
      ]
     },
     "metadata": {
      "needs_background": "light"
     },
     "output_type": "display_data"
    }
   ],
   "source": [
    "from matplotlib import pyplot as plt\n",
    "from operator import itemgetter\n",
    "\n",
    "res = dict(sorted(kids_title.items(), key = itemgetter(1), reverse = True)[:6])\n",
    "keys = res.keys()\n",
    "values = res.values()\n",
    "plt.bar(keys, values)\n",
    "plt.xlabel('words in kids')\n",
    "plt.ylabel('frequency')\n",
    "plt.show()"
   ]
  },
  {
   "cell_type": "code",
   "execution_count": 17,
   "metadata": {},
   "outputs": [
    {
     "data": {
      "image/png": "[encoded data removed]",
      "text/plain": [
       "<Figure size 432x288 with 1 Axes>"
      ]
     },
     "metadata": {
      "needs_background": "light"
     },
     "output_type": "display_data"
    }
   ],
   "source": [
    "from matplotlib import pyplot as plt\n",
    "from operator import itemgetter\n",
    "\n",
    "res = dict(sorted(business_title.items(), key = itemgetter(1), reverse = True)[:6])\n",
    "keys = res.keys()\n",
    "values = res.values()\n",
    "plt.bar(keys, values)\n",
    "plt.xlabel('words in business')\n",
    "plt.ylabel('frequency')\n",
    "plt.show()"
   ]
  },
  {
   "cell_type": "code",
   "execution_count": 18,
   "metadata": {
    "scrolled": true
   },
   "outputs": [
    {
     "data": {
      "text/html": [
       "<div>\n",
       "<style scoped>\n",
       "    .dataframe tbody tr th:only-of-type {\n",
       "        vertical-align: middle;\n",
       "    }\n",
       "\n",
       "    .dataframe tbody tr th {\n",
       "        vertical-align: top;\n",
       "    }\n",
       "\n",
       "    .dataframe thead th {\n",
       "        text-align: right;\n",
       "    }\n",
       "</style>\n",
       "<table border=\"1\" class=\"dataframe\">\n",
       "  <thead>\n",
       "    <tr style=\"text-align: right;\">\n",
       "      <th></th>\n",
       "      <th>title</th>\n",
       "      <th>description</th>\n",
       "      <th>categories</th>\n",
       "    </tr>\n",
       "  </thead>\n",
       "  <tbody>\n",
       "    <tr>\n",
       "      <th>0</th>\n",
       "      <td>کآشوب</td>\n",
       "      <td>«کآشوب (بیست و سه روایت از روضه‌هایی که زندگی ...</td>\n",
       "      <td>داستان کوتاه</td>\n",
       "    </tr>\n",
       "    <tr>\n",
       "      <th>1</th>\n",
       "      <td>داستان‌های برق‌آسا</td>\n",
       "      <td>«داستان‌های برق‌آسا» نام مجموعه داستان‌هایی به...</td>\n",
       "      <td>داستان کوتاه</td>\n",
       "    </tr>\n",
       "    <tr>\n",
       "      <th>2</th>\n",
       "      <td>بحثی درباره مرجعیت و روحانیت</td>\n",
       "      <td>مجموعه مقالات «بحثی درباره مرجعیت و روحانیت» ش...</td>\n",
       "      <td>کلیات اسلام</td>\n",
       "    </tr>\n",
       "    <tr>\n",
       "      <th>3</th>\n",
       "      <td>قلعه‌ی حیوانات</td>\n",
       "      <td>«قلعه‌ی حیوانات» جورج اورول، درباره گروهی از ح...</td>\n",
       "      <td>رمان</td>\n",
       "    </tr>\n",
       "    <tr>\n",
       "      <th>4</th>\n",
       "      <td>قصه ما مثل شد (۱)</td>\n",
       "      <td>«قصه ما مثل شد» یک مجموعه کتاب ۵ جلدی است که د...</td>\n",
       "      <td>داستان کودک و نوجوانان</td>\n",
       "    </tr>\n",
       "  </tbody>\n",
       "</table>\n",
       "</div>"
      ],
      "text/plain": [
       "                          title  \\\n",
       "0                         کآشوب   \n",
       "1            داستان‌های برق‌آسا   \n",
       "2  بحثی درباره مرجعیت و روحانیت   \n",
       "3                قلعه‌ی حیوانات   \n",
       "4             قصه ما مثل شد (۱)   \n",
       "\n",
       "                                         description              categories  \n",
       "0  «کآشوب (بیست و سه روایت از روضه‌هایی که زندگی ...            داستان کوتاه  \n",
       "1  «داستان‌های برق‌آسا» نام مجموعه داستان‌هایی به...            داستان کوتاه  \n",
       "2  مجموعه مقالات «بحثی درباره مرجعیت و روحانیت» ش...             کلیات اسلام  \n",
       "3  «قلعه‌ی حیوانات» جورج اورول، درباره گروهی از ح...                    رمان  \n",
       "4  «قصه ما مثل شد» یک مجموعه کتاب ۵ جلدی است که د...  داستان کودک و نوجوانان  "
      ]
     },
     "execution_count": 18,
     "metadata": {},
     "output_type": "execute_result"
    }
   ],
   "source": [
    "tdf = pd.read_csv(\"books_test.csv\")\n",
    "tdf.head(5)"
   ]
  },
  {
   "cell_type": "markdown",
   "metadata": {},
   "source": [
    "We map numbers 0 to 5 to our categories"
   ]
  },
  {
   "cell_type": "markdown",
   "metadata": {},
   "source": [
    "The function below inputs a title $X$ of a book and calculates $P(c|X)$ for each $c \\in \\{Novel, Sociology, Islamic, Short Story, Kids, Business \\}$ where $X$ is the list of words in the title."
   ]
  },
  {
   "cell_type": "markdown",
   "metadata": {},
   "source": [
    "### Q4)\n",
    "\n",
    "In case that there is word contained only one type of genre, Naive Bayes will definetly choose that genre as the answer which might be wrong in some cases.\n",
    "\n",
    "When word $x$ hasn't appeared in genre $c$, we have that $P(x|c) = 0$\n",
    "The reason is that $log(0) = - \\infty$ so the sum $ sum_{i=1}^{n} log(P(x_i | c)) $ will converge to $- \\infty$ and never will be chosen as the genre since wre choosing the genre which maximizes the sum mentioned above."
   ]
  },
  {
   "cell_type": "markdown",
   "metadata": {},
   "source": [
    "### Q5)\n",
    "\n",
    "Additive smoothing associates the probability\n",
    "\n",
    "$$ \\frac{Word Count + \\alpha}{Total Words + \\alpha.D} $$\n",
    "\n",
    "instead of\n",
    "\n",
    "$$ \\frac{Word Count}{Total Words}$$\n",
    "\n",
    "to $P(Word|c)$\n",
    "\n",
    "When we wan't no additive smoothing, $\\alpha = 0$\n",
    "\n",
    "Where $\\alpha$ is a positive constant and $D$ is the number of distinct words in that category.\n",
    "\n",
    "\n",
    "This will avoid the $- \\infty$ problem mentioned in Q4 since the fraction will never be equal to 0 because of the positive $\\alpha$ in the numerator."
   ]
  },
  {
   "cell_type": "code",
   "execution_count": 19,
   "metadata": {},
   "outputs": [],
   "source": [
    "def getCat(a):\n",
    "    genres = ['رمان', 'جامعه‌شناسی', 'کلیات اسلام', 'داستان کوتاه', 'داستان کودک و نوجوانان', 'مدیریت و کسب و کار']\n",
    "    return genres.index(a)"
   ]
  },
  {
   "cell_type": "code",
   "execution_count": 20,
   "metadata": {
    "scrolled": false
   },
   "outputs": [
    {
     "data": {
      "text/html": [
       "<div>\n",
       "<style scoped>\n",
       "    .dataframe tbody tr th:only-of-type {\n",
       "        vertical-align: middle;\n",
       "    }\n",
       "\n",
       "    .dataframe tbody tr th {\n",
       "        vertical-align: top;\n",
       "    }\n",
       "\n",
       "    .dataframe thead th {\n",
       "        text-align: right;\n",
       "    }\n",
       "</style>\n",
       "<table border=\"1\" class=\"dataframe\">\n",
       "  <thead>\n",
       "    <tr style=\"text-align: right;\">\n",
       "      <th></th>\n",
       "      <th>title</th>\n",
       "      <th>description</th>\n",
       "      <th>categories</th>\n",
       "    </tr>\n",
       "  </thead>\n",
       "  <tbody>\n",
       "    <tr>\n",
       "      <th>0</th>\n",
       "      <td>کآشوب</td>\n",
       "      <td>«کآشوب (بیست و سه روایت از روضه‌هایی که زندگی ...</td>\n",
       "      <td>داستان کوتاه</td>\n",
       "    </tr>\n",
       "    <tr>\n",
       "      <th>1</th>\n",
       "      <td>داستان‌های برق‌آسا</td>\n",
       "      <td>«داستان‌های برق‌آسا» نام مجموعه داستان‌هایی به...</td>\n",
       "      <td>داستان کوتاه</td>\n",
       "    </tr>\n",
       "    <tr>\n",
       "      <th>2</th>\n",
       "      <td>بحثی درباره مرجعیت و روحانیت</td>\n",
       "      <td>مجموعه مقالات «بحثی درباره مرجعیت و روحانیت» ش...</td>\n",
       "      <td>کلیات اسلام</td>\n",
       "    </tr>\n",
       "    <tr>\n",
       "      <th>3</th>\n",
       "      <td>قلعه‌ی حیوانات</td>\n",
       "      <td>«قلعه‌ی حیوانات» جورج اورول، درباره گروهی از ح...</td>\n",
       "      <td>رمان</td>\n",
       "    </tr>\n",
       "    <tr>\n",
       "      <th>4</th>\n",
       "      <td>قصه ما مثل شد (۱)</td>\n",
       "      <td>«قصه ما مثل شد» یک مجموعه کتاب ۵ جلدی است که د...</td>\n",
       "      <td>داستان کودک و نوجوانان</td>\n",
       "    </tr>\n",
       "  </tbody>\n",
       "</table>\n",
       "</div>"
      ],
      "text/plain": [
       "                          title  \\\n",
       "0                         کآشوب   \n",
       "1            داستان‌های برق‌آسا   \n",
       "2  بحثی درباره مرجعیت و روحانیت   \n",
       "3                قلعه‌ی حیوانات   \n",
       "4             قصه ما مثل شد (۱)   \n",
       "\n",
       "                                         description              categories  \n",
       "0  «کآشوب (بیست و سه روایت از روضه‌هایی که زندگی ...            داستان کوتاه  \n",
       "1  «داستان‌های برق‌آسا» نام مجموعه داستان‌هایی به...            داستان کوتاه  \n",
       "2  مجموعه مقالات «بحثی درباره مرجعیت و روحانیت» ش...             کلیات اسلام  \n",
       "3  «قلعه‌ی حیوانات» جورج اورول، درباره گروهی از ح...                    رمان  \n",
       "4  «قصه ما مثل شد» یک مجموعه کتاب ۵ جلدی است که د...  داستان کودک و نوجوانان  "
      ]
     },
     "execution_count": 20,
     "metadata": {},
     "output_type": "execute_result"
    }
   ],
   "source": [
    "tdf.head(5)"
   ]
  },
  {
   "cell_type": "markdown",
   "metadata": {},
   "source": [
    "There are 4 ways we can use for prediction. \n",
    "\n",
    "1. Using book's title based on titles dictionary\n",
    "\n",
    "2. Using book's description based on titles dictionary\n",
    "\n",
    "3. Using book's title based on description dictionary\n",
    "\n",
    "4. Using book's description based on description dictionary\n",
    "\n",
    "By experimenting, I found out that the 4'th one gives the maximum accuracy."
   ]
  },
  {
   "cell_type": "markdown",
   "metadata": {},
   "source": [
    "### First we go for detection without additive smoothing:\n"
   ]
  },
  {
   "cell_type": "code",
   "execution_count": 21,
   "metadata": {},
   "outputs": [],
   "source": [
    "from math import log\n",
    "\n",
    "ZERO = 0.0000000000000000000000000000000000000000000000000000000000000000000000000000000000000000000000000001\n",
    "\n",
    "\n",
    "def calcProbsWithoutSmoothing(phrase):\n",
    "    tokens = word_tokenize(phrase)\n",
    "    ret = [0, 0, 0, 0, 0, 0]\n",
    "\n",
    "\n",
    "    for token in tokens:\n",
    "\n",
    "        word = lemmatizer.lemmatize(token)\n",
    "\n",
    "        if (word in ignore):\n",
    "            continue\n",
    "            \n",
    "            \n",
    "        if (word not in novel_descr):\n",
    "            ret[0] += log(ZERO)\n",
    "        else:\n",
    "            ret[0] += log((novel_descr[word]) / (total_novel_descr))\n",
    "            \n",
    "        \n",
    "        if (word not in sociology_descr):\n",
    "            ret[1] += log(ZERO)\n",
    "        else:\n",
    "            ret[1] += log((sociology_descr[word]) / (total_sociology_descr))\n",
    "            \n",
    "        \n",
    "        if (word not in islamic_descr):\n",
    "            ret[2] += log(ZERO)\n",
    "        else:\n",
    "            ret[2] += log((islamic_descr[word]) / (total_islamic_descr))\n",
    "            \n",
    "        \n",
    "        if (word not in short_story_descr):\n",
    "            ret[3] += log(ZERO)\n",
    "        else:\n",
    "            ret[3] += log((short_story_descr[word]) / (total_short_story_descr))\n",
    "            \n",
    "                \n",
    "        if (word not in kids_descr):\n",
    "            ret[4] += log(ZERO)\n",
    "        else:\n",
    "            ret[4] += log((kids_descr[word]) / (total_kids_descr))\n",
    "     \n",
    "        \n",
    "        if (word not in business_descr):\n",
    "            ret[5] += log(ZERO)\n",
    "        else:\n",
    "            ret[5] += log((business_descr[word]) / (total_business_descr))\n",
    "        \n",
    "    return ret"
   ]
  },
  {
   "cell_type": "code",
   "execution_count": 22,
   "metadata": {
    "tags": []
   },
   "outputs": [],
   "source": [
    "detections = [0, 0, 0, 0, 0, 0]\n",
    "correct_detections = [0, 0, 0, 0, 0, 0]\n",
    "correct = 0\n",
    "\n",
    "import random\n",
    "for index, row in tdf.iterrows():\n",
    "    \n",
    "    p_descr_descr = calcProbsWithoutSmoothing(row['description'])\n",
    "\n",
    "    mx_descr_descr = max(p_descr_descr)\n",
    "\n",
    "    detect_by_descr_descr = p_descr_descr.index(mx_descr_descr, 0)\n",
    "\n",
    "\n",
    "    detect = detect_by_descr_descr\n",
    "    \n",
    "\n",
    "\n",
    "    category = getCat(row['categories'])\n",
    "    correct += (category == detect)\n",
    "    \n",
    "    detections[detect] += 1\n",
    "    correct_detections[detect] += (detect == category)\n",
    "\n",
    "        "
   ]
  },
  {
   "cell_type": "code",
   "execution_count": 23,
   "metadata": {
    "scrolled": true
   },
   "outputs": [
    {
     "name": "stdout",
     "output_type": "stream",
     "text": [
      "RESULTS WITHOUT ADDITIVE SOOTHING:\n",
      "\n",
      "Accuracy is  0.6777777777777778\n",
      "\n",
      "Precision, Recall, and F1 for categories 0 to 5 are:\n",
      "\n",
      "Precision: 0.49586776859504134\n",
      "Recall: 0.8\n",
      "F1: 0.6122448979591837\n",
      "\n",
      "Precision: 0.6176470588235294\n",
      "Recall: 0.84\n",
      "F1: 0.711864406779661\n",
      "\n",
      "Precision: 0.9344262295081968\n",
      "Recall: 0.76\n",
      "F1: 0.838235294117647\n",
      "\n",
      "Precision: 0.5\n",
      "Recall: 0.44\n",
      "F1: 0.46808510638297873\n",
      "\n",
      "Precision: 0.9130434782608695\n",
      "Recall: 0.56\n",
      "F1: 0.6942148760330579\n",
      "\n",
      "Precision: 0.9259259259259259\n",
      "Recall: 0.6666666666666666\n",
      "F1: 0.7751937984496123\n",
      "\n"
     ]
    }
   ],
   "source": [
    "print(\"RESULTS WITHOUT ADDITIVE SOOTHING:\")\n",
    "print()\n",
    "print(\"Accuracy is \", correct / len(tdf))\n",
    "print()\n",
    "\n",
    "print(\"Precision, Recall, and F1 for categories 0 to 5 are:\")\n",
    "print()\n",
    "\n",
    "for i in range(6):\n",
    "    precision = correct_detections[i] / detections[i]\n",
    "    recall = correct_detections[i] / 75\n",
    "    f1 = (2 * precision * recall) / (precision + recall)\n",
    "    \n",
    "    print(\"Precision:\", correct_detections[i] / detections[i])\n",
    "    print(\"Recall:\", correct_detections[i] / 75)\n",
    "    print(\"F1:\", f1)\n",
    "    print()"
   ]
  },
  {
   "cell_type": "markdown",
   "metadata": {},
   "source": [
    "### Now we go for detection with additive smoothing:\n",
    "\n"
   ]
  },
  {
   "cell_type": "code",
   "execution_count": 24,
   "metadata": {},
   "outputs": [],
   "source": [
    "from math import log\n",
    "\n",
    "\n",
    "def calcProbsWithSmoothing(phrase):\n",
    "    tokens = word_tokenize(phrase)\n",
    "    ret = [0, 0, 0, 0, 0, 0]\n",
    "    \n",
    "    k = 1 #alpha\n",
    "\n",
    "    for token in tokens:\n",
    "\n",
    "        word = lemmatizer.lemmatize(token)\n",
    "\n",
    "        if (word in ignore):\n",
    "            continue\n",
    "            \n",
    "        \n",
    "        ret[0] += log((novel_descr.get(word, 0) + k) / (total_novel_descr + k * distinct_novel_descr))\n",
    "            \n",
    "        ret[1] += log((sociology_descr.get(word, 0) + k) / (total_sociology_descr + k * distinct_sociology_descr))\n",
    "            \n",
    "        ret[2] += log((islamic_descr.get(word, 0) + k) / (total_islamic_descr + k * distinct_islamic_descr))\n",
    "            \n",
    "        ret[3] += log((short_story_descr.get(word, 0) + k) / (total_short_story_descr + k * distinct_short_story_descr))\n",
    "        \n",
    "        ret[4] += log((kids_descr.get(word, 0) + k) / (total_kids_descr + k * distinct_kids_descr))\n",
    "    \n",
    "        ret[5] += log((business_descr.get(word, 0) + k) / (total_business_descr + k * distinct_business_descr))\n",
    "        \n",
    "\n",
    "    return ret"
   ]
  },
  {
   "cell_type": "code",
   "execution_count": 25,
   "metadata": {},
   "outputs": [],
   "source": [
    "detections = [0, 0, 0, 0, 0, 0]\n",
    "correct_detections = [0, 0, 0, 0, 0, 0]\n",
    "correct = 0\n",
    "\n",
    "import random\n",
    "for index, row in tdf.iterrows():\n",
    "    \n",
    "    p_descr_descr = calcProbsWithSmoothing(row['description'])\n",
    "\n",
    "    mx_descr_descr = max(p_descr_descr)\n",
    "\n",
    "    detect_by_descr_descr = p_descr_descr.index(mx_descr_descr, 0)\n",
    "\n",
    "\n",
    "    detect = detect_by_descr_descr\n",
    "    \n",
    "\n",
    "\n",
    "    category = getCat(row['categories'])\n",
    "    correct += (category == detect)\n",
    "    \n",
    "    detections[detect] += 1\n",
    "    correct_detections[detect] += (detect == category)\n",
    "\n",
    "        "
   ]
  },
  {
   "cell_type": "code",
   "execution_count": 26,
   "metadata": {
    "scrolled": true
   },
   "outputs": [
    {
     "name": "stdout",
     "output_type": "stream",
     "text": [
      "RESULTS WITH ADDITIVE SOOTHING:\n",
      "\n",
      "Accuracy is  0.7577777777777778\n",
      "\n",
      "Precision, Recall, and F1 for categories 0 to 5 are:\n",
      "\n",
      "Precision: 0.8372093023255814\n",
      "Recall: 0.48\n",
      "F1: 0.6101694915254237\n",
      "\n",
      "Precision: 0.8051948051948052\n",
      "Recall: 0.8266666666666667\n",
      "F1: 0.8157894736842106\n",
      "\n",
      "Precision: 0.9117647058823529\n",
      "Recall: 0.8266666666666667\n",
      "F1: 0.8671328671328671\n",
      "\n",
      "Precision: 0.7884615384615384\n",
      "Recall: 0.5466666666666666\n",
      "F1: 0.6456692913385826\n",
      "\n",
      "Precision: 0.5511811023622047\n",
      "Recall: 0.9333333333333333\n",
      "F1: 0.693069306930693\n",
      "\n",
      "Precision: 0.8433734939759037\n",
      "Recall: 0.9333333333333333\n",
      "F1: 0.8860759493670886\n",
      "\n"
     ]
    }
   ],
   "source": [
    "print(\"RESULTS WITH ADDITIVE SOOTHING:\")\n",
    "print()\n",
    "print(\"Accuracy is \", correct / len(tdf))\n",
    "print()\n",
    "\n",
    "print(\"Precision, Recall, and F1 for categories 0 to 5 are:\")\n",
    "print()\n",
    "\n",
    "for i in range(6):\n",
    "    precision = correct_detections[i] / detections[i]\n",
    "    recall = correct_detections[i] / 75\n",
    "    f1 = (2 * precision * recall) / (precision + recall)\n",
    "    \n",
    "    print(\"Precision:\", correct_detections[i] / detections[i])\n",
    "    print(\"Recall:\", correct_detections[i] / 75)\n",
    "    print(\"F1:\", f1)\n",
    "    print()"
   ]
  }
 ],
 "metadata": {
  "kernelspec": {
   "display_name": "Python 3.8.3 64-bit ('base': conda)",
   "language": "python",
   "name": "python38364bitbasecondabbb9afc6973a4765bc4615e1a113f959"
  },
  "language_info": {
   "codemirror_mode": {
    "name": "ipython",
    "version": 3
   },
   "file_extension": ".py",
   "mimetype": "text/x-python",
   "name": "python",
   "nbconvert_exporter": "python",
   "pygments_lexer": "ipython3",
   "version": "3.7.6"
  },
  "metadata": {
   "interpreter": {
    "hash": "0d4556761f0a5975d151c2bc122593a210840a6fc05311c59e230cc0d17b2dc1"
   }
  }
 },
 "nbformat": 4,
 "nbformat_minor": 4
}
