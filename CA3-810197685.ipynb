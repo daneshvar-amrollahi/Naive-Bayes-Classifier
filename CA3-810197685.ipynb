{
 "cells": [
  {
   "cell_type": "markdown",
   "metadata": {},
   "source": [
    "## Computer Assignment #3 (Naive Bayes Classification)\n",
    "### Artificial Intelligence Course - Spring 2021\n",
    "### Daneshvar Amrollahi (810197685)\n",
    "\n",
    "#### The questions asked in the description are answered in the format Q_i) where i is the question number."
   ]
  },
  {
   "cell_type": "code",
   "execution_count": 18,
   "metadata": {},
   "outputs": [],
   "source": [
    "import pandas as pd "
   ]
  },
  {
   "cell_type": "code",
   "execution_count": 19,
   "metadata": {
    "scrolled": true
   },
   "outputs": [
    {
     "data": {
      "text/html": [
       "<div>\n",
       "<style scoped>\n",
       "    .dataframe tbody tr th:only-of-type {\n",
       "        vertical-align: middle;\n",
       "    }\n",
       "\n",
       "    .dataframe tbody tr th {\n",
       "        vertical-align: top;\n",
       "    }\n",
       "\n",
       "    .dataframe thead th {\n",
       "        text-align: right;\n",
       "    }\n",
       "</style>\n",
       "<table border=\"1\" class=\"dataframe\">\n",
       "  <thead>\n",
       "    <tr style=\"text-align: right;\">\n",
       "      <th></th>\n",
       "      <th>title</th>\n",
       "      <th>description</th>\n",
       "      <th>categories</th>\n",
       "    </tr>\n",
       "  </thead>\n",
       "  <tbody>\n",
       "    <tr>\n",
       "      <th>0</th>\n",
       "      <td>ساختار نظریه‌های جامعه‌شناسی ایران</td>\n",
       "      <td>«ساختار نظریه‌های جامعه‌شناسی ایران» نوشته ابو...</td>\n",
       "      <td>جامعه‌شناسی</td>\n",
       "    </tr>\n",
       "    <tr>\n",
       "      <th>1</th>\n",
       "      <td>جامعه و فرهنگ کانادا</td>\n",
       "      <td>«جامعه و فرهنگ کانادا» از مجموعه کتاب‌های «جام...</td>\n",
       "      <td>جامعه‌شناسی</td>\n",
       "    </tr>\n",
       "    <tr>\n",
       "      <th>2</th>\n",
       "      <td>پرسش از موعود</td>\n",
       "      <td>پرسش‌های مختلفی درباره زندگی و شخصیت امام مهدی...</td>\n",
       "      <td>کلیات اسلام</td>\n",
       "    </tr>\n",
       "    <tr>\n",
       "      <th>3</th>\n",
       "      <td>موج، دریا</td>\n",
       "      <td>«موج دریا» به قلم مهری ماهوتی (-۱۳۴۰) و تصویرگ...</td>\n",
       "      <td>داستان کودک و نوجوانان</td>\n",
       "    </tr>\n",
       "    <tr>\n",
       "      <th>4</th>\n",
       "      <td>پرسش از غرب</td>\n",
       "      <td>«پرسش از غرب» به قلم دکتر اسماعیل شفیعی سروستا...</td>\n",
       "      <td>جامعه‌شناسی</td>\n",
       "    </tr>\n",
       "  </tbody>\n",
       "</table>\n",
       "</div>"
      ],
      "text/plain": [
       "                                title  \\\n",
       "0  ساختار نظریه‌های جامعه‌شناسی ایران   \n",
       "1                جامعه و فرهنگ کانادا   \n",
       "2                       پرسش از موعود   \n",
       "3                           موج، دریا   \n",
       "4                         پرسش از غرب   \n",
       "\n",
       "                                         description              categories  \n",
       "0  «ساختار نظریه‌های جامعه‌شناسی ایران» نوشته ابو...             جامعه‌شناسی  \n",
       "1  «جامعه و فرهنگ کانادا» از مجموعه کتاب‌های «جام...             جامعه‌شناسی  \n",
       "2  پرسش‌های مختلفی درباره زندگی و شخصیت امام مهدی...             کلیات اسلام  \n",
       "3  «موج دریا» به قلم مهری ماهوتی (-۱۳۴۰) و تصویرگ...  داستان کودک و نوجوانان  \n",
       "4  «پرسش از غرب» به قلم دکتر اسماعیل شفیعی سروستا...             جامعه‌شناسی  "
      ]
     },
     "execution_count": 19,
     "metadata": {},
     "output_type": "execute_result"
    }
   ],
   "source": [
    "df = pd.read_csv(\"books_train.csv\")\n",
    "df.head(5)\n"
   ]
  },
  {
   "cell_type": "code",
   "execution_count": 33,
   "metadata": {
    "scrolled": true
   },
   "outputs": [],
   "source": [
    "from __future__ import unicode_literals\n",
    "from hazm import *\n",
    "\n",
    "normalizer = Normalizer()\n",
    "stemmer = Stemmer()\n",
    "lemmatizer = Lemmatizer()"
   ]
  },
  {
   "cell_type": "code",
   "execution_count": 21,
   "metadata": {
    "scrolled": true
   },
   "outputs": [
    {
     "data": {
      "text/plain": [
       "'ساختار نظریه\\u200cهای جامعه\\u200cشناسی ایران'"
      ]
     },
     "execution_count": 21,
     "metadata": {},
     "output_type": "execute_result"
    }
   ],
   "source": [
    "normalizer.normalize(df['title'][0])"
   ]
  },
  {
   "cell_type": "markdown",
   "metadata": {},
   "source": [
    "This option seems to be removing semi-spaces (Nim faseleh). We don't need that here since the dataset is already guaranteed to have this standard."
   ]
  },
  {
   "cell_type": "code",
   "execution_count": 22,
   "metadata": {
    "scrolled": false
   },
   "outputs": [
    {
     "name": "stdout",
     "output_type": "stream",
     "text": [
      "رف\n",
      "کتاب\n",
      "دانشور\n",
      "خوردن\n",
      "سلا\n"
     ]
    }
   ],
   "source": [
    "print(stemmer.stem('رفتم'))\n",
    "print(stemmer.stem('کتاب‌ها'))\n",
    "print(stemmer.stem('دانشور'))\n",
    "print(stemmer.stem('خوردن'))\n",
    "print(stemmer.stem('سلام'))"
   ]
  },
  {
   "cell_type": "markdown",
   "metadata": {},
   "source": [
    "#### Q1)\n",
    "I decided not choose this **stemming** option since this library doesn't seem to be accurate enough. It is destructing some normal words."
   ]
  },
  {
   "cell_type": "code",
   "execution_count": 40,
   "metadata": {},
   "outputs": [
    {
     "name": "stdout",
     "output_type": "stream",
     "text": [
      "رفت#رو\n",
      "خورد#خور\n",
      "خواهد دید\n",
      "دید#بین\n"
     ]
    }
   ],
   "source": [
    "print(lemmatizer.lemmatize('می‌روی'))\n",
    "print(lemmatizer.lemmatize('می‌خوری'))\n",
    "print(lemmatizer.lemmatize('خواهد دید'))\n",
    "print(lemmatizer.lemmatize('دیدم'))"
   ]
  },
  {
   "cell_type": "markdown",
   "metadata": {},
   "source": [
    "#### Q1)\n",
    "This option is giving us **Bon-e-Maazi** and **Bon-e-Mozare** of a verb in Farsi. Two verbs having the same **Bon** mostly have the same concept in a sentence so they can be used instead of each other."
   ]
  },
  {
   "cell_type": "code",
   "execution_count": 25,
   "metadata": {
    "scrolled": true
   },
   "outputs": [
    {
     "data": {
      "text/plain": [
       "['جامعه', 'و', 'فرهنگ', 'کانادا']"
      ]
     },
     "execution_count": 25,
     "metadata": {},
     "output_type": "execute_result"
    }
   ],
   "source": [
    "word_tokenize(df['title'][1])"
   ]
  },
  {
   "cell_type": "markdown",
   "metadata": {},
   "source": [
    "This **word_tokenize()** is a good function to use since it breaks a sentence into it's words which we are going to need them later."
   ]
  },
  {
   "cell_type": "code",
   "execution_count": 24,
   "metadata": {
    "scrolled": false
   },
   "outputs": [
    {
     "data": {
      "text/plain": [
       "داستان کودک و نوجوانان    425\n",
       "کلیات اسلام               425\n",
       "داستان کوتاه              425\n",
       "رمان                      425\n",
       "جامعه‌شناسی               425\n",
       "مدیریت و کسب و کار        425\n",
       "Name: categories, dtype: int64"
      ]
     },
     "execution_count": 24,
     "metadata": {},
     "output_type": "execute_result"
    }
   ],
   "source": [
    "df['categories'].value_counts()"
   ]
  },
  {
   "cell_type": "markdown",
   "metadata": {},
   "source": [
    "We have 425 samples of each category."
   ]
  },
  {
   "cell_type": "code",
   "execution_count": 26,
   "metadata": {
    "scrolled": true
   },
   "outputs": [
    {
     "data": {
      "text/plain": [
       "['آزادانه',\n",
       " 'آسان',\n",
       " 'آسيب پذيرند',\n",
       " 'آشكارا',\n",
       " 'آشنايند',\n",
       " 'آمرانه',\n",
       " 'آن',\n",
       " 'آن گاه',\n",
       " 'آن ها',\n",
       " 'آنان',\n",
       " 'آناني',\n",
       " 'آنجا',\n",
       " 'آنچنان',\n",
       " 'آنچنان كه',\n",
       " 'آنچه',\n",
       " 'آنرا',\n",
       " 'آنقدر',\n",
       " 'آنگاه',\n",
       " 'آنها',\n",
       " 'آنهاست']"
      ]
     },
     "execution_count": 26,
     "metadata": {},
     "output_type": "execute_result"
    }
   ],
   "source": [
    "with open('stop_words.txt') as f:\n",
    "    ignore = [line.rstrip() for line in f]\n",
    "\n",
    "ignore = [x.strip() for x in content]\n",
    "ignore[30:50]"
   ]
  },
  {
   "cell_type": "markdown",
   "metadata": {},
   "source": [
    "**ignore**: List of words to ignore in text."
   ]
  },
  {
   "cell_type": "code",
   "execution_count": 27,
   "metadata": {},
   "outputs": [],
   "source": [
    "novel = dict()\n",
    "sociology = dict()\n",
    "islamic = dict()\n",
    "short_story = dict()\n",
    "kids = dict()\n",
    "business = dict()"
   ]
  },
  {
   "cell_type": "code",
   "execution_count": 28,
   "metadata": {},
   "outputs": [],
   "source": [
    "novel.clear()\n",
    "sociology.clear()\n",
    "islamic.clear()\n",
    "short_story.clear()\n",
    "kids.clear()\n",
    "business.clear()\n",
    "\n",
    "for index, row in df.iterrows():\n",
    "    tokens = word_tokenize(row['title'])\n",
    "    #print(row['categories'])\n",
    "    for token in tokens:\n",
    "        word = token\n",
    "        if (not word in ignore):\n",
    "            #print(word)\n",
    "            cat = row['categories']\n",
    "            \n",
    "            if (cat == 'رمان'):\n",
    "                novel[word] = novel.get(word, 0) + 1\n",
    "            if (cat == 'جامعه‌شناسی'):\n",
    "                sociology[word] = sociology.get(word, 0) + 1\n",
    "            if (cat == 'کلیات اسلام'):\n",
    "                islamic[word] = islamic.get(word, 0) + 1\n",
    "            if (cat == 'داستان کوتاه'):\n",
    "                short_story[word] = short_story.get(word, 0) + 1\n",
    "            if (cat == 'داستان کودک و نوجوانان'):\n",
    "                kids[word] = kids.get(word, 0) + 1\n",
    "            if (cat == 'مدیریت و کسب و کار'):\n",
    "                business[word] = business.get(word, 0) + 1 \n",
    "\n"
   ]
  },
  {
   "cell_type": "markdown",
   "metadata": {},
   "source": [
    "novel[x] is storing number of occurences of word x in a novel.\n",
    "\n",
    "Since all the categories have same count, there is no difference in dividing this frequency number by their count."
   ]
  },
  {
   "cell_type": "code",
   "execution_count": 29,
   "metadata": {},
   "outputs": [
    {
     "data": {
      "text/html": [
       "<div>\n",
       "<style scoped>\n",
       "    .dataframe tbody tr th:only-of-type {\n",
       "        vertical-align: middle;\n",
       "    }\n",
       "\n",
       "    .dataframe tbody tr th {\n",
       "        vertical-align: top;\n",
       "    }\n",
       "\n",
       "    .dataframe thead th {\n",
       "        text-align: right;\n",
       "    }\n",
       "</style>\n",
       "<table border=\"1\" class=\"dataframe\">\n",
       "  <thead>\n",
       "    <tr style=\"text-align: right;\">\n",
       "      <th></th>\n",
       "      <th>title</th>\n",
       "      <th>description</th>\n",
       "      <th>categories</th>\n",
       "    </tr>\n",
       "  </thead>\n",
       "  <tbody>\n",
       "    <tr>\n",
       "      <th>0</th>\n",
       "      <td>کآشوب</td>\n",
       "      <td>«کآشوب (بیست و سه روایت از روضه‌هایی که زندگی ...</td>\n",
       "      <td>داستان کوتاه</td>\n",
       "    </tr>\n",
       "    <tr>\n",
       "      <th>1</th>\n",
       "      <td>داستان‌های برق‌آسا</td>\n",
       "      <td>«داستان‌های برق‌آسا» نام مجموعه داستان‌هایی به...</td>\n",
       "      <td>داستان کوتاه</td>\n",
       "    </tr>\n",
       "    <tr>\n",
       "      <th>2</th>\n",
       "      <td>بحثی درباره مرجعیت و روحانیت</td>\n",
       "      <td>مجموعه مقالات «بحثی درباره مرجعیت و روحانیت» ش...</td>\n",
       "      <td>کلیات اسلام</td>\n",
       "    </tr>\n",
       "    <tr>\n",
       "      <th>3</th>\n",
       "      <td>قلعه‌ی حیوانات</td>\n",
       "      <td>«قلعه‌ی حیوانات» جورج اورول، درباره گروهی از ح...</td>\n",
       "      <td>رمان</td>\n",
       "    </tr>\n",
       "    <tr>\n",
       "      <th>4</th>\n",
       "      <td>قصه ما مثل شد (۱)</td>\n",
       "      <td>«قصه ما مثل شد» یک مجموعه کتاب ۵ جلدی است که د...</td>\n",
       "      <td>داستان کودک و نوجوانان</td>\n",
       "    </tr>\n",
       "  </tbody>\n",
       "</table>\n",
       "</div>"
      ],
      "text/plain": [
       "                          title  \\\n",
       "0                         کآشوب   \n",
       "1            داستان‌های برق‌آسا   \n",
       "2  بحثی درباره مرجعیت و روحانیت   \n",
       "3                قلعه‌ی حیوانات   \n",
       "4             قصه ما مثل شد (۱)   \n",
       "\n",
       "                                         description              categories  \n",
       "0  «کآشوب (بیست و سه روایت از روضه‌هایی که زندگی ...            داستان کوتاه  \n",
       "1  «داستان‌های برق‌آسا» نام مجموعه داستان‌هایی به...            داستان کوتاه  \n",
       "2  مجموعه مقالات «بحثی درباره مرجعیت و روحانیت» ش...             کلیات اسلام  \n",
       "3  «قلعه‌ی حیوانات» جورج اورول، درباره گروهی از ح...                    رمان  \n",
       "4  «قصه ما مثل شد» یک مجموعه کتاب ۵ جلدی است که د...  داستان کودک و نوجوانان  "
      ]
     },
     "execution_count": 29,
     "metadata": {},
     "output_type": "execute_result"
    }
   ],
   "source": [
    "tdf = pd.read_csv(\"books_test.csv\")\n",
    "tdf.head(5)"
   ]
  },
  {
   "cell_type": "code",
   "execution_count": 30,
   "metadata": {},
   "outputs": [],
   "source": [
    "from math import log"
   ]
  },
  {
   "cell_type": "code",
   "execution_count": 31,
   "metadata": {},
   "outputs": [],
   "source": [
    "correct = 0\n",
    "\n",
    "for index, row in tdf.iterrows():\n",
    "    tokens = word_tokenize(row['title'])\n",
    "    novel_prob = 0\n",
    "    sociology_prob = 0\n",
    "    islamic_prob = 0\n",
    "    short_story_prob = 0\n",
    "    kids_prob = 0\n",
    "    business_prob = 0\n",
    "    for token in tokens:\n",
    "        word = token\n",
    "        if (word in ignore):\n",
    "            continue\n",
    "            \n",
    "        if (word in novel):\n",
    "            novel_prob += log(novel[word])\n",
    "\n",
    "        if (word in sociology):\n",
    "            sociology_prob += log(sociology[word])\n",
    "\n",
    "        if (word in islamic):\n",
    "            islamic_prob += log(islamic[word])\n",
    "\n",
    "        if (word in short_story):\n",
    "            short_story_prob += log(short_story[word])\n",
    "\n",
    "        if (word in kids):\n",
    "            kids_prob += log(kids[word])\n",
    "\n",
    "        if (word in business):\n",
    "            business_prob += log(business[word])\n",
    "\n",
    "    mx = max(novel_prob, sociology_prob, islamic_prob, short_story_prob, kids_prob, business_prob)\n",
    "    if (row['categories'] == 'رمان' and mx == novel_prob):\n",
    "        correct += 1\n",
    "\n",
    "    if (row['categories'] == 'جامعه‌شناسی' and mx == sociology_prob):\n",
    "        correct += 1\n",
    "\n",
    "    if (row['categories'] == 'کلیات اسلام' and mx == islamic_prob):\n",
    "        correct += 1\n",
    "\n",
    "    if (row['categories'] ==  'داستان کوتاه' and mx == short_story_prob):\n",
    "        correct += 1\n",
    "\n",
    "    if (row['categories'] == 'داستان کودک و نوجوانان' and mx == kids_prob):\n",
    "        correct += 1\n",
    "\n",
    "    if (row['categories'] == 'مدیریت و کسب و کار' and mx == business_prob):\n",
    "        correct += 1\n"
   ]
  },
  {
   "cell_type": "code",
   "execution_count": 32,
   "metadata": {},
   "outputs": [
    {
     "name": "stdout",
     "output_type": "stream",
     "text": [
      "355\n",
      "Accuracy is  0.7888888888888889\n"
     ]
    }
   ],
   "source": [
    "print(correct)\n",
    "print(\"Accuracy is \", correct / len(tdf))"
   ]
  }
 ],
 "metadata": {
  "kernelspec": {
   "display_name": "Python 3.8.3 64-bit ('base': conda)",
   "language": "python",
   "name": "python38364bitbasecondabbb9afc6973a4765bc4615e1a113f959"
  },
  "language_info": {
   "codemirror_mode": {
    "name": "ipython",
    "version": 3
   },
   "file_extension": ".py",
   "mimetype": "text/x-python",
   "name": "python",
   "nbconvert_exporter": "python",
   "pygments_lexer": "ipython3",
   "version": "3.7.6"
  },
  "metadata": {
   "interpreter": {
    "hash": "0d4556761f0a5975d151c2bc122593a210840a6fc05311c59e230cc0d17b2dc1"
   }
  }
 },
 "nbformat": 4,
 "nbformat_minor": 4
}
