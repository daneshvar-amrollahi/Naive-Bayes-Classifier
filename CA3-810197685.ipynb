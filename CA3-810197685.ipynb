{
 "cells": [
  {
   "cell_type": "code",
   "execution_count": 2,
   "metadata": {},
   "outputs": [],
   "source": [
    "import pandas as pd "
   ]
  },
  {
   "cell_type": "code",
   "execution_count": 3,
   "metadata": {
    "scrolled": true
   },
   "outputs": [
    {
     "output_type": "execute_result",
     "data": {
      "text/plain": [
       "                                title  \\\n",
       "0  ساختار نظریه‌های جامعه‌شناسی ایران   \n",
       "1                جامعه و فرهنگ کانادا   \n",
       "2                       پرسش از موعود   \n",
       "3                           موج، دریا   \n",
       "4                         پرسش از غرب   \n",
       "\n",
       "                                         description              categories  \n",
       "0  «ساختار نظریه‌های جامعه‌شناسی ایران» نوشته ابو...             جامعه‌شناسی  \n",
       "1  «جامعه و فرهنگ کانادا» از مجموعه کتاب‌های «جام...             جامعه‌شناسی  \n",
       "2  پرسش‌های مختلفی درباره زندگی و شخصیت امام مهدی...             کلیات اسلام  \n",
       "3  «موج دریا» به قلم مهری ماهوتی (-۱۳۴۰) و تصویرگ...  داستان کودک و نوجوانان  \n",
       "4  «پرسش از غرب» به قلم دکتر اسماعیل شفیعی سروستا...             جامعه‌شناسی  "
      ],
      "text/html": "<div>\n<style scoped>\n    .dataframe tbody tr th:only-of-type {\n        vertical-align: middle;\n    }\n\n    .dataframe tbody tr th {\n        vertical-align: top;\n    }\n\n    .dataframe thead th {\n        text-align: right;\n    }\n</style>\n<table border=\"1\" class=\"dataframe\">\n  <thead>\n    <tr style=\"text-align: right;\">\n      <th></th>\n      <th>title</th>\n      <th>description</th>\n      <th>categories</th>\n    </tr>\n  </thead>\n  <tbody>\n    <tr>\n      <th>0</th>\n      <td>ساختار نظریه‌های جامعه‌شناسی ایران</td>\n      <td>«ساختار نظریه‌های جامعه‌شناسی ایران» نوشته ابو...</td>\n      <td>جامعه‌شناسی</td>\n    </tr>\n    <tr>\n      <th>1</th>\n      <td>جامعه و فرهنگ کانادا</td>\n      <td>«جامعه و فرهنگ کانادا» از مجموعه کتاب‌های «جام...</td>\n      <td>جامعه‌شناسی</td>\n    </tr>\n    <tr>\n      <th>2</th>\n      <td>پرسش از موعود</td>\n      <td>پرسش‌های مختلفی درباره زندگی و شخصیت امام مهدی...</td>\n      <td>کلیات اسلام</td>\n    </tr>\n    <tr>\n      <th>3</th>\n      <td>موج، دریا</td>\n      <td>«موج دریا» به قلم مهری ماهوتی (-۱۳۴۰) و تصویرگ...</td>\n      <td>داستان کودک و نوجوانان</td>\n    </tr>\n    <tr>\n      <th>4</th>\n      <td>پرسش از غرب</td>\n      <td>«پرسش از غرب» به قلم دکتر اسماعیل شفیعی سروستا...</td>\n      <td>جامعه‌شناسی</td>\n    </tr>\n  </tbody>\n</table>\n</div>"
     },
     "metadata": {},
     "execution_count": 3
    }
   ],
   "source": [
    "df = pd.read_csv(\"books_train.csv\")\n",
    "df.head(5)\n"
   ]
  },
  {
   "cell_type": "code",
   "execution_count": 53,
   "metadata": {
    "scrolled": true
   },
   "outputs": [],
   "source": [
    "from __future__ import unicode_literals\n",
    "from hazm import *\n",
    "\n",
    "normalizer = Normalizer()\n",
    "stemmer = Stemmer()"
   ]
  },
  {
   "cell_type": "code",
   "execution_count": 51,
   "metadata": {},
   "outputs": [
    {
     "output_type": "execute_result",
     "data": {
      "text/plain": [
       "'ساختار نظریه\\u200cهای جامعه\\u200cشناسی ایران'"
      ]
     },
     "metadata": {},
     "execution_count": 51
    }
   ],
   "source": [
    "normalizer.normalize(df['title'][0])"
   ]
  },
  {
   "cell_type": "code",
   "execution_count": 59,
   "metadata": {},
   "outputs": [
    {
     "output_type": "execute_result",
     "data": {
      "text/plain": [
       "'رف'"
      ]
     },
     "metadata": {},
     "execution_count": 59
    }
   ],
   "source": [
    "stemmer.stem('رفتم')"
   ]
  },
  {
   "cell_type": "code",
   "execution_count": 38,
   "metadata": {},
   "outputs": [
    {
     "data": {
      "text/plain": [
       "['جامعه', 'و', 'فرهنگ', 'کانادا']"
      ]
     },
     "execution_count": 38,
     "metadata": {},
     "output_type": "execute_result"
    }
   ],
   "source": [
    "word_tokenize(df['title'][1])"
   ]
  },
  {
   "cell_type": "code",
   "execution_count": 5,
   "metadata": {
    "scrolled": false
   },
   "outputs": [
    {
     "output_type": "execute_result",
     "data": {
      "text/plain": [
       "کلیات اسلام               425\n",
       "داستان کودک و نوجوانان    425\n",
       "جامعه‌شناسی               425\n",
       "رمان                      425\n",
       "داستان کوتاه              425\n",
       "مدیریت و کسب و کار        425\n",
       "Name: categories, dtype: int64"
      ]
     },
     "metadata": {},
     "execution_count": 5
    }
   ],
   "source": [
    "df['categories'].value_counts()"
   ]
  },
  {
   "cell_type": "code",
   "execution_count": 6,
   "metadata": {
    "scrolled": true
   },
   "outputs": [
    {
     "output_type": "execute_result",
     "data": {
      "text/plain": [
       "['»', '«', 'و', ',', 'را', 'از', '.', 'به', '،', ':', '/']"
      ]
     },
     "metadata": {},
     "execution_count": 6
    }
   ],
   "source": [
    "ignore = ['»', '«', 'و', ',', 'را', 'از', '.', 'به',  '،', ':', '/']\n",
    "ignore"
   ]
  },
  {
   "cell_type": "code",
   "execution_count": 28,
   "metadata": {},
   "outputs": [],
   "source": [
    "novel = dict()\n",
    "sociology = dict()\n",
    "islamic = dict()\n",
    "short_story = dict()\n",
    "kids = dict()\n",
    "business = dict()"
   ]
  },
  {
   "cell_type": "code",
   "execution_count": 64,
   "metadata": {
    "tags": []
   },
   "outputs": [],
   "source": [
    "novel.clear()\n",
    "sociology.clear()\n",
    "islamic.clear()\n",
    "short_story.clear()\n",
    "kids.clear()\n",
    "business.clear()\n",
    "\n",
    "for index, row in df.iterrows():\n",
    "    tokens = word_tokenize(row['title'])\n",
    "    #print(row['categories'])\n",
    "    for token in tokens:\n",
    "        word = token\n",
    "        if (not word in ignore):\n",
    "            #print(word)\n",
    "            cat = row['categories']\n",
    "            \n",
    "            if (cat == 'رمان'):\n",
    "                novel[word] = novel.get(word, 0) + 1\n",
    "            if (cat == 'جامعه‌شناسی'):\n",
    "                sociology[word] = sociology.get(word, 0) + 1\n",
    "            if (cat == 'کلیات اسلام'):\n",
    "                islamic[word] = islamic.get(word, 0) + 1\n",
    "            if (cat == 'داستان کوتاه'):\n",
    "                short_story[word] = short_story.get(word, 0) + 1\n",
    "            if (cat == 'داستان کودک و نوجوانان'):\n",
    "                kids[word] = kids.get(word, 0) + 1\n",
    "            if (cat == 'مدیریت و کسب و کار'):\n",
    "                business[word] = business.get(word, 0) + 1 \n",
    "\n"
   ]
  },
  {
   "source": [
    "p_novel = dict()\n",
    "p_sociology = dict()\n",
    "p_islamic = dict()\n",
    "p_short_story = dict()\n",
    "p_kids = dict()\n",
    "p_business = dict()"
   ],
   "cell_type": "code",
   "metadata": {},
   "execution_count": null,
   "outputs": []
  },
  {
   "source": [
    "By p_novel[x] here we mean $P(x | novel)$ which is the probability of seeing the word $x$ in a novel."
   ],
   "cell_type": "markdown",
   "metadata": {}
  },
  {
   "cell_type": "code",
   "execution_count": null,
   "metadata": {},
   "outputs": [],
   "source": []
  }
 ],
 "metadata": {
  "kernelspec": {
   "name": "python38364bitbasecondabbb9afc6973a4765bc4615e1a113f959",
   "display_name": "Python 3.7.6 64-bit ('base': conda)"
  },
  "language_info": {
   "codemirror_mode": {
    "name": "ipython",
    "version": 3
   },
   "file_extension": ".py",
   "mimetype": "text/x-python",
   "name": "python",
   "nbconvert_exporter": "python",
   "pygments_lexer": "ipython3",
   "version": "3.7.6"
  },
  "metadata": {
   "interpreter": {
    "hash": "0d4556761f0a5975d151c2bc122593a210840a6fc05311c59e230cc0d17b2dc1"
   }
  }
 },
 "nbformat": 4,
 "nbformat_minor": 4
}